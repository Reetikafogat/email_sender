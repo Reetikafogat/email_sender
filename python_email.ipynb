{
 "cells": [
  {
   "cell_type": "markdown",
   "id": "e7339b92-b0a9-4a42-8945-c666b0a8b3c9",
   "metadata": {},
   "source": [
    "# EMAIL_SENDER"
   ]
  },
  {
   "cell_type": "code",
   "execution_count": 1,
   "id": "7f94bfb0-b5f6-4e80-a3e1-8b1a7cac82ed",
   "metadata": {},
   "outputs": [],
   "source": [
    "import smtplib\n"
   ]
  },
  {
   "cell_type": "code",
   "execution_count": 3,
   "id": "5ee043aa-d74f-4a34-9b21-6d8eb982c4da",
   "metadata": {},
   "outputs": [
    {
     "name": "stdout",
     "output_type": "stream",
     "text": [
      "your email has been successfully sent\n"
     ]
    },
    {
     "data": {
      "text/plain": [
       "(221,\n",
       " b'2.0.0 closing connection d2e1a72fcca58-70ead812895sm10193259b3a.102 - gsmtp')"
      ]
     },
     "execution_count": 3,
     "metadata": {},
     "output_type": "execute_result"
    }
   ],
   "source": [
    "smtpObj = smtplib.SMTP('smtp.gmail.com', 587)\n",
    "smtpObj.ehlo()\n",
    "smtpObj.starttls()\n",
    "smtpObj.login('reetikafogat@gmail.com', 'kevf mpev flqy ellk')\n",
    "sender_email_id = 'reetikafogat@gmail.com'\n",
    "reciever_email_id = 'fogatreetika@gmail.com'\n",
    "message = \"\"\"\\\n",
    "Subject: Test Email\n",
    "\n",
    "\n",
    "BRIEF DISCRIPTION:\n",
    "SMTP is a protocol used for sending emails and python provides the smtplib library to interact with it.\n",
    "\n",
    "STEP1: first we have to import the stmplib library.\n",
    "STEP2: then create a connection with the email server using SMTP instance.\n",
    "STEP3: pass the first parameter as the server location and the second parameter of the port to use. For Gmail, we use port number 587.\n",
    "STEP4: then we put SMTP connection in TLS mode for security. It will encrypt all the smtp commands.\n",
    "STEP5: then we pass our gmail credentials in login instance for authentication,\n",
    "STEP6: store the message in a variable that u want to send . here i have it in message variable.\n",
    "STEP7: Using the sendmail() instance, send the  message. sendmail() uses three parameters: sender_email_id, receiver_email_id and message.\n",
    "STEP8: After  completing  the  task, terminate the SMTP session by using quit(). \"\"\"\n",
    "\n",
    "smtpObj.sendmail(sender_email_id, reciever_email_id, message)\n",
    "print(\"your email has been successfully sent\")\n",
    "smtpObj.quit()\n",
    "\n",
    "\n"
   ]
  },
  {
   "cell_type": "code",
   "execution_count": null,
   "id": "e241cde5-b91e-4cd9-8609-151754a74e3e",
   "metadata": {},
   "outputs": [],
   "source": []
  }
 ],
 "metadata": {
  "kernelspec": {
   "display_name": "Python 3 (ipykernel)",
   "language": "python",
   "name": "python3"
  },
  "language_info": {
   "codemirror_mode": {
    "name": "ipython",
    "version": 3
   },
   "file_extension": ".py",
   "mimetype": "text/x-python",
   "name": "python",
   "nbconvert_exporter": "python",
   "pygments_lexer": "ipython3",
   "version": "3.11.7"
  }
 },
 "nbformat": 4,
 "nbformat_minor": 5
}
